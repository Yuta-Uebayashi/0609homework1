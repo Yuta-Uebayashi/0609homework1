{
 "cells": [
  {
   "cell_type": "markdown",
   "id": "7b10f5c8-4cf7-4a1e-8d94-bd2a067c4e04",
   "metadata": {},
   "source": [
    "# PART OWE:Geocoding"
   ]
  },
  {
   "cell_type": "code",
   "execution_count": 4,
   "id": "7e7eedad-1f07-4b9d-8246-5147ac7ed06b",
   "metadata": {},
   "outputs": [
    {
     "name": "stdout",
     "output_type": "stream",
     "text": [
      "/Users/yuta-uebayashi/Desktop/0609homework1\n"
     ]
    }
   ],
   "source": [
    "!pwd"
   ]
  },
  {
   "cell_type": "code",
   "execution_count": 2,
   "id": "b0fae5c2-908f-4626-8eb8-79b9baebff65",
   "metadata": {},
   "outputs": [
    {
     "data": {
      "text/plain": [
       "[{'street': '100 Ihwajang-gil',\n",
       "  'city': 'Ihwa-dong',\n",
       "  'state': 'Jongno District',\n",
       "  'postal_code': 'Seoul',\n",
       "  'country': 'South Korea'},\n",
       " {'street': '4 Chome-1-1 Shimomeguro',\n",
       "  'city': ' Meguro City',\n",
       "  'state': 'Tokyo',\n",
       "  'postal_code': '153-0064',\n",
       "  'country': 'Japan'},\n",
       " {'street': '1126 Green Giant Ln',\n",
       "  'city': 'Blue Earth',\n",
       "  'state': 'MN',\n",
       "  'postal_code': '56013',\n",
       "  'country': ''},\n",
       " {'street': '7477 Hubbard Ave',\n",
       "  'city': 'Middleton',\n",
       "  'state': 'WI',\n",
       "  'postal_code': '53562',\n",
       "  'country': ''},\n",
       " {'street': 'Wrocławska 12',\n",
       "  'city': '',\n",
       "  'state': 'Poznań',\n",
       "  'postal_code': '61-838',\n",
       "  'country': 'Poland'}]"
      ]
     },
     "execution_count": 2,
     "metadata": {},
     "output_type": "execute_result"
    }
   ],
   "source": [
    "import csv\n",
    "\n",
    "with open('addresses.csv') as fp:\n",
    "    data = list(csv.DictReader(fp))\n",
    "\n",
    "data"
   ]
  },
  {
   "cell_type": "code",
   "execution_count": 3,
   "id": "7773a2fd-1b5f-46eb-a2ba-ad46ae7496c8",
   "metadata": {},
   "outputs": [
    {
     "name": "stdout",
     "output_type": "stream",
     "text": [
      "Requirement already satisfied: geocoder in /Users/yuta-uebayashi/.pyenv/versions/3.12.3/lib/python3.12/site-packages (1.38.1)\n",
      "Requirement already satisfied: click in /Users/yuta-uebayashi/.pyenv/versions/3.12.3/lib/python3.12/site-packages (from geocoder) (8.1.8)\n",
      "Requirement already satisfied: future in /Users/yuta-uebayashi/.pyenv/versions/3.12.3/lib/python3.12/site-packages (from geocoder) (1.0.0)\n",
      "Requirement already satisfied: ratelim in /Users/yuta-uebayashi/.pyenv/versions/3.12.3/lib/python3.12/site-packages (from geocoder) (0.1.6)\n",
      "Requirement already satisfied: requests in /Users/yuta-uebayashi/.pyenv/versions/3.12.3/lib/python3.12/site-packages (from geocoder) (2.32.3)\n",
      "Requirement already satisfied: six in /Users/yuta-uebayashi/.pyenv/versions/3.12.3/lib/python3.12/site-packages (from geocoder) (1.17.0)\n",
      "Requirement already satisfied: decorator in /Users/yuta-uebayashi/.pyenv/versions/3.12.3/lib/python3.12/site-packages (from ratelim->geocoder) (5.2.1)\n",
      "Requirement already satisfied: charset-normalizer<4,>=2 in /Users/yuta-uebayashi/.pyenv/versions/3.12.3/lib/python3.12/site-packages (from requests->geocoder) (3.4.2)\n",
      "Requirement already satisfied: idna<4,>=2.5 in /Users/yuta-uebayashi/.pyenv/versions/3.12.3/lib/python3.12/site-packages (from requests->geocoder) (3.10)\n",
      "Requirement already satisfied: urllib3<3,>=1.21.1 in /Users/yuta-uebayashi/.pyenv/versions/3.12.3/lib/python3.12/site-packages (from requests->geocoder) (2.4.0)\n",
      "Requirement already satisfied: certifi>=2017.4.17 in /Users/yuta-uebayashi/.pyenv/versions/3.12.3/lib/python3.12/site-packages (from requests->geocoder) (2025.4.26)\n",
      "\n",
      "\u001b[1m[\u001b[0m\u001b[34;49mnotice\u001b[0m\u001b[1;39;49m]\u001b[0m\u001b[39;49m A new release of pip is available: \u001b[0m\u001b[31;49m24.0\u001b[0m\u001b[39;49m -> \u001b[0m\u001b[32;49m25.1.1\u001b[0m\n",
      "\u001b[1m[\u001b[0m\u001b[34;49mnotice\u001b[0m\u001b[1;39;49m]\u001b[0m\u001b[39;49m To update, run: \u001b[0m\u001b[32;49mpip install --upgrade pip\u001b[0m\n"
     ]
    }
   ],
   "source": [
    "!pip install geocoder"
   ]
  },
  {
   "cell_type": "code",
   "execution_count": 4,
   "id": "932c0f92-d269-4791-8f58-355042bd27f9",
   "metadata": {},
   "outputs": [
    {
     "name": "stdout",
     "output_type": "stream",
     "text": [
      "100 Ihwajang-gil, Ihwa-dong, Jongno District, Seoul, South Korea\n",
      "4 Chome-1-1 Shimomeguro,  Meguro City, Tokyo, 153-0064, Japan\n",
      "1126 Green Giant Ln, Blue Earth, MN, 56013, \n",
      "7477 Hubbard Ave, Middleton, WI, 53562, \n",
      "Wrocławska 12, , Poznań, 61-838, Poland\n"
     ]
    }
   ],
   "source": [
    "for row in data:\n",
    "    address = row['street'] + ', ' + row['city'] + ', ' + row['state'] + ', ' + row['postal_code'] + ', ' + row['country']\n",
    "    print(address)"
   ]
  },
  {
   "cell_type": "code",
   "execution_count": 5,
   "id": "942e984d-1734-4017-822c-48881d568433",
   "metadata": {},
   "outputs": [
    {
     "name": "stdout",
     "output_type": "stream",
     "text": [
      "/Users/yuta-uebayashi/.pyenv/versions/3.11.8/bin/python\n"
     ]
    }
   ],
   "source": [
    "import sys\n",
    "print(sys.executable)"
   ]
  },
  {
   "cell_type": "code",
   "execution_count": 6,
   "id": "7748fec4-d71e-4ed2-bb99-4cf94d2c2f96",
   "metadata": {},
   "outputs": [
    {
     "name": "stdout",
     "output_type": "stream",
     "text": [
      "Requirement already satisfied: geocoder in /Users/yuta-uebayashi/.pyenv/versions/3.11.8/lib/python3.11/site-packages (1.38.1)\n",
      "Requirement already satisfied: click in /Users/yuta-uebayashi/.pyenv/versions/3.11.8/lib/python3.11/site-packages (from geocoder) (8.2.1)\n",
      "Requirement already satisfied: future in /Users/yuta-uebayashi/.pyenv/versions/3.11.8/lib/python3.11/site-packages (from geocoder) (1.0.0)\n",
      "Requirement already satisfied: ratelim in /Users/yuta-uebayashi/.pyenv/versions/3.11.8/lib/python3.11/site-packages (from geocoder) (0.1.6)\n",
      "Requirement already satisfied: requests in /Users/yuta-uebayashi/.pyenv/versions/3.11.8/lib/python3.11/site-packages (from geocoder) (2.32.3)\n",
      "Requirement already satisfied: six in /Users/yuta-uebayashi/.pyenv/versions/3.11.8/lib/python3.11/site-packages (from geocoder) (1.17.0)\n",
      "Requirement already satisfied: decorator in /Users/yuta-uebayashi/.pyenv/versions/3.11.8/lib/python3.11/site-packages (from ratelim->geocoder) (5.1.1)\n",
      "Requirement already satisfied: charset-normalizer<4,>=2 in /Users/yuta-uebayashi/.pyenv/versions/3.11.8/lib/python3.11/site-packages (from requests->geocoder) (3.4.1)\n",
      "Requirement already satisfied: idna<4,>=2.5 in /Users/yuta-uebayashi/.pyenv/versions/3.11.8/lib/python3.11/site-packages (from requests->geocoder) (3.10)\n",
      "Requirement already satisfied: urllib3<3,>=1.21.1 in /Users/yuta-uebayashi/.pyenv/versions/3.11.8/lib/python3.11/site-packages (from requests->geocoder) (2.3.0)\n",
      "Requirement already satisfied: certifi>=2017.4.17 in /Users/yuta-uebayashi/.pyenv/versions/3.11.8/lib/python3.11/site-packages (from requests->geocoder) (2025.1.31)\n",
      "\n",
      "\u001b[1m[\u001b[0m\u001b[34;49mnotice\u001b[0m\u001b[1;39;49m]\u001b[0m\u001b[39;49m A new release of pip is available: \u001b[0m\u001b[31;49m24.0\u001b[0m\u001b[39;49m -> \u001b[0m\u001b[32;49m25.1.1\u001b[0m\n",
      "\u001b[1m[\u001b[0m\u001b[34;49mnotice\u001b[0m\u001b[1;39;49m]\u001b[0m\u001b[39;49m To update, run: \u001b[0m\u001b[32;49m/Users/yuta-uebayashi/.pyenv/versions/3.11.8/bin/python -m pip install --upgrade pip\u001b[0m\n"
     ]
    }
   ],
   "source": [
    "import sys\n",
    "!{sys.executable} -m pip install geocoder"
   ]
  },
  {
   "cell_type": "code",
   "execution_count": 7,
   "id": "b1e2b9f3-8588-4197-a060-9710180ad5dc",
   "metadata": {},
   "outputs": [
    {
     "name": "stdout",
     "output_type": "stream",
     "text": [
      "Requirement already satisfied: python-dotenv in /Users/yuta-uebayashi/.pyenv/versions/3.11.8/lib/python3.11/site-packages (1.1.0)\n",
      "\n",
      "\u001b[1m[\u001b[0m\u001b[34;49mnotice\u001b[0m\u001b[1;39;49m]\u001b[0m\u001b[39;49m A new release of pip is available: \u001b[0m\u001b[31;49m24.0\u001b[0m\u001b[39;49m -> \u001b[0m\u001b[32;49m25.1.1\u001b[0m\n",
      "\u001b[1m[\u001b[0m\u001b[34;49mnotice\u001b[0m\u001b[1;39;49m]\u001b[0m\u001b[39;49m To update, run: \u001b[0m\u001b[32;49m/Users/yuta-uebayashi/.pyenv/versions/3.11.8/bin/python -m pip install --upgrade pip\u001b[0m\n",
      "Note: you may need to restart the kernel to use updated packages.\n"
     ]
    }
   ],
   "source": [
    "pip install python-dotenv"
   ]
  },
  {
   "cell_type": "code",
   "execution_count": 8,
   "id": "13684740-1d8b-4151-8bc7-5e49d72193fd",
   "metadata": {},
   "outputs": [],
   "source": [
    "import geocoder"
   ]
  },
  {
   "cell_type": "code",
   "execution_count": 9,
   "id": "d2be36e0-767b-40c9-a447-a1a8d5624baf",
   "metadata": {},
   "outputs": [],
   "source": [
    "from dotenv import load_dotenv\n",
    "load_dotenv()\n",
    "import os"
   ]
  },
  {
   "cell_type": "code",
   "execution_count": 10,
   "id": "4930a30c-d11f-480e-9003-a9192437309b",
   "metadata": {},
   "outputs": [
    {
     "name": "stdout",
     "output_type": "stream",
     "text": [
      "100 Ihwajang-gil, Ihwa-dong, Jongno District, Seoul, South Korea, lat: 37.5798019, lon: 127.0046643\n",
      "4 Chome-1-1 Shimomeguro,  Meguro City, Tokyo, 153-0064, Japan, lat: 35.6317048, lon: 139.706685\n",
      "1126 Green Giant Ln, Blue Earth, MN, 56013, , lat: 43.650971, lon: -94.09567899999999\n",
      "7477 Hubbard Ave, Middleton, WI, 53562, , lat: 43.0952876, lon: -89.51123369999999\n",
      "Wrocławska 12, , Poznań, 61-838, Poland, lat: 52.4065344, lon: 16.9327697\n"
     ]
    }
   ],
   "source": [
    "API_key = os.getenv(\"API_key\")\n",
    "\n",
    "for location in data:\n",
    "    address = \"{street}, {city}, {state}, {postal_code}, {country}\".format(**location)\n",
    "    \n",
    "    g = geocoder.google(address, key=API_key)\n",
    "\n",
    "    location['lat'] = g.latlng[0] \n",
    "    location['lon'] = g.latlng[1]\n",
    "\n",
    "    lat_str = f\"{location['lat']}\"\n",
    "    lon_str = f\"{location['lon']}\"\n",
    "    \n",
    "    print(f\"{address}, lat: {lat_str}, lon: {lon_str}\")"
   ]
  },
  {
   "cell_type": "code",
   "execution_count": 11,
   "id": "2f514513-4edc-482c-a7cc-82804f845153",
   "metadata": {},
   "outputs": [],
   "source": [
    "data = [\n",
    "    {\n",
    "        'street': '100 Ihwajang-gil, Ihwa-dong',\n",
    "        'city': 'Jongno District',\n",
    "        'state': 'Seoul',\n",
    "        'postal_code': '',\n",
    "        'country': 'South Korea',\n",
    "        'lat': 37.5798019,\n",
    "        'lon': 127.0046643\n",
    "    },\n",
    "    {\n",
    "        'street': '4 Chome-1-1 Shimomeguro',\n",
    "        'city': 'Meguro City',\n",
    "        'state': 'Tokyo',\n",
    "        'postal_code': '153-0064',\n",
    "        'country': 'Japan',\n",
    "        'lat': 35.6317048,\n",
    "        'lon': 139.706685\n",
    "    },\n",
    "    {\n",
    "        'street': '1126 Green Giant Ln',\n",
    "        'city': 'Blue Earth',\n",
    "        'state': 'MN',\n",
    "        'postal_code': '56013',\n",
    "        'country': 'USA',\n",
    "        'lat': 43.650971,\n",
    "        'lon': -94.095679\n",
    "    },\n",
    "    {\n",
    "        'street': '7477 Hubbard Ave',\n",
    "        'city': 'Middleton',\n",
    "        'state': 'WI',\n",
    "        'postal_code': '53562',\n",
    "        'country': 'USA',\n",
    "        'lat': 43.0952876,\n",
    "        'lon': -89.5112337\n",
    "    },\n",
    "    {\n",
    "        'street': 'Wrocławska 12',\n",
    "        'city': 'Poznań',\n",
    "        'state': '',\n",
    "        'postal_code': '61-838',\n",
    "        'country': 'Poland',\n",
    "        'lat': 52.4065344,\n",
    "        'lon': 16.9327697\n",
    "    }\n",
    "]"
   ]
  },
  {
   "cell_type": "code",
   "execution_count": 12,
   "id": "2d42e507-27df-45f6-a682-377b425afb40",
   "metadata": {},
   "outputs": [],
   "source": [
    "import csv\n",
    "\n",
    "with open('addresses-geocoded.csv', 'w') as fp:\n",
    "    fieldnames=['street','city','state','postal_code','country','lat', 'lon']\n",
    "\n",
    "    writer = csv.DictWriter(fp, fieldnames=fieldnames)\n",
    "    writer.writeheader()\n",
    "    for row in data:\n",
    "        writer.writerow(row)"
   ]
  },
  {
   "cell_type": "markdown",
   "id": "484170f2-29b5-4e43-8889-cc62c8f63e2a",
   "metadata": {},
   "source": [
    "# PART TWO:A WeatherAPI alternative"
   ]
  },
  {
   "cell_type": "markdown",
   "id": "d95e235f-372b-4c06-a57f-753bda84fa57",
   "metadata": {},
   "source": [
    "### 1"
   ]
  },
  {
   "cell_type": "code",
   "execution_count": 3,
   "id": "276357b3-c542-4923-aa07-b7fe37d22be6",
   "metadata": {},
   "outputs": [
    {
     "data": {
      "text/plain": [
       "\"I chose Open-Meteo because it's easy to use. You don’t need an API key. You just add the latitude and longitude to the URL, and you can get the weather forecast quickly.\""
      ]
     },
     "execution_count": 3,
     "metadata": {},
     "output_type": "execute_result"
    }
   ],
   "source": [
    "\"I chose Open-Meteo because it's easy to use. You don’t need an API key. You just add the latitude and longitude to the URL, and you can get the weather forecast quickly.\""
   ]
  },
  {
   "cell_type": "markdown",
   "id": "9b24f696-414f-4313-92f6-edc8b76076aa",
   "metadata": {},
   "source": [
    "### 2"
   ]
  },
  {
   "cell_type": "code",
   "execution_count": 5,
   "id": "856f5193-1bc9-4b3f-8fbb-e8c84f653cef",
   "metadata": {},
   "outputs": [
    {
     "data": {
      "text/plain": [
       "'https://open-meteo.com/en/docs'"
      ]
     },
     "execution_count": 5,
     "metadata": {},
     "output_type": "execute_result"
    }
   ],
   "source": [
    "'https://open-meteo.com/en/docs'"
   ]
  },
  {
   "cell_type": "markdown",
   "id": "2b56e5be-5d90-4f22-b1fa-455ca03038eb",
   "metadata": {},
   "source": [
    "### 3"
   ]
  },
  {
   "cell_type": "code",
   "execution_count": 7,
   "id": "9e27aae9-0cd1-40dd-b313-e3ac4a41f429",
   "metadata": {},
   "outputs": [
    {
     "name": "stdout",
     "output_type": "stream",
     "text": [
      "{'time': '2025-06-11T04:00', 'interval': 900, 'temperature': 18.1, 'windspeed': 2.2, 'winddirection': 279, 'is_day': 0, 'weathercode': 55}\n"
     ]
    }
   ],
   "source": [
    "import requests\n",
    "\n",
    "lat = 38.2682\n",
    "lon = 140.8694\n",
    "\n",
    "url = f\"https://api.open-meteo.com/v1/forecast?latitude={lat}&longitude={lon}&current_weather=true&timezone=auto\"\n",
    "\n",
    "response = requests.get(url)\n",
    "data = response.json()\n",
    "\n",
    "print(data[\"current_weather\"])"
   ]
  },
  {
   "cell_type": "markdown",
   "id": "80ed9091-5d17-4b40-b3b6-f34f8f3e2410",
   "metadata": {},
   "source": [
    "### 4"
   ]
  },
  {
   "cell_type": "code",
   "execution_count": 8,
   "id": "76d801f9-4150-4a0b-97f8-057661a38ce2",
   "metadata": {},
   "outputs": [
    {
     "name": "stdout",
     "output_type": "stream",
     "text": [
      "Country: Japan\n"
     ]
    }
   ],
   "source": [
    "print(\"Country: Japan\")"
   ]
  },
  {
   "cell_type": "markdown",
   "id": "38b77213-b583-47e1-a4a2-fcf4e43f2e1c",
   "metadata": {},
   "source": [
    "### 5"
   ]
  },
  {
   "cell_type": "code",
   "execution_count": 9,
   "id": "4e9f313e-4491-4a2d-9126-ec4946762442",
   "metadata": {},
   "outputs": [
    {
     "name": "stdout",
     "output_type": "stream",
     "text": [
      "Open-Meteo does not provide 'feels like' temperature.\n"
     ]
    }
   ],
   "source": [
    "print(\"Open-Meteo does not provide 'feels like' temperature.\")"
   ]
  },
  {
   "cell_type": "markdown",
   "id": "27207258-f007-4d44-8f96-6c9dfcbb11c6",
   "metadata": {},
   "source": [
    "### 6"
   ]
  },
  {
   "cell_type": "code",
   "execution_count": 11,
   "id": "774d229b-89a1-4d64-8185-430e48b14c74",
   "metadata": {},
   "outputs": [
    {
     "name": "stdout",
     "output_type": "stream",
     "text": [
      "Heathrow temp: 20.2\n"
     ]
    }
   ],
   "source": [
    "lat = 51.4700\n",
    "lon = -0.4543\n",
    "\n",
    "url_lhr = f\"https://api.open-meteo.com/v1/forecast?latitude={lat}&longitude={lon}&current_weather=true&timezone=auto\"\n",
    "\n",
    "response_lhr = requests.get(url_lhr)\n",
    "data_lhr = response_lhr.json()\n",
    "\n",
    "print(\"Heathrow temp:\", data_lhr[\"current_weather\"][\"temperature\"])"
   ]
  },
  {
   "cell_type": "markdown",
   "id": "ab052612-a71f-4ab1-8877-84fc69e3da7c",
   "metadata": {},
   "source": [
    "### 7"
   ]
  },
  {
   "cell_type": "code",
   "execution_count": 13,
   "id": "82567fec-c84e-4354-9850-41e38794d852",
   "metadata": {},
   "outputs": [
    {
     "name": "stdout",
     "output_type": "stream",
     "text": [
      "https://api.open-meteo.com/v1/forecast?latitude=51.47&longitude=-0.4543&daily=temperature_2m_max&timezone=auto\n"
     ]
    }
   ],
   "source": [
    "url_forecast = f\"https://api.open-meteo.com/v1/forecast?latitude={lat}&longitude={lon}&daily=temperature_2m_max&timezone=auto\"\n",
    "print(url_forecast)"
   ]
  },
  {
   "cell_type": "markdown",
   "id": "93b173b9-f193-4b18-ab97-de1cc1f84b1d",
   "metadata": {},
   "source": [
    "### 8"
   ]
  },
  {
   "cell_type": "code",
   "execution_count": 14,
   "id": "92e6dd20-7aed-46c8-82d3-ad5068e049d9",
   "metadata": {},
   "outputs": [
    {
     "name": "stdout",
     "output_type": "stream",
     "text": [
      "2025-06-10\n",
      "2025-06-11\n",
      "2025-06-12\n"
     ]
    }
   ],
   "source": [
    "response_forecast = requests.get(url_forecast)\n",
    "forecast = response_forecast.json()\n",
    "\n",
    "dates = forecast[\"daily\"][\"time\"]\n",
    "\n",
    "for date in range(3):\n",
    "    print(dates[date])"
   ]
  },
  {
   "cell_type": "markdown",
   "id": "2d9a8282-7f21-4065-9e35-3064e28c116c",
   "metadata": {},
   "source": [
    "### 9"
   ]
  },
  {
   "cell_type": "code",
   "execution_count": 15,
   "id": "3a703fa1-6f5b-40f2-960b-7b7393191733",
   "metadata": {},
   "outputs": [
    {
     "name": "stdout",
     "output_type": "stream",
     "text": [
      "Date: 2025-06-10\n",
      "Max temperature: 21.8\n",
      "Date: 2025-06-11\n",
      "Max temperature: 23.3\n",
      "Date: 2025-06-12\n",
      "Max temperature: 22.3\n"
     ]
    }
   ],
   "source": [
    "temps = forecast[\"daily\"][\"temperature_2m_max\"]\n",
    "\n",
    "for temp in range(3):\n",
    "    print(\"Date:\", dates[temp])\n",
    "    print(\"Max temperature:\", temps[temp])"
   ]
  },
  {
   "cell_type": "markdown",
   "id": "9f65a66c-51b8-458d-bec4-bb012a42109e",
   "metadata": {},
   "source": [
    "### 10"
   ]
  },
  {
   "cell_type": "code",
   "execution_count": 16,
   "id": "8947fdce-faae-445c-a565-23f063e86173",
   "metadata": {},
   "outputs": [
    {
     "name": "stdout",
     "output_type": "stream",
     "text": [
      "Hottest day: 2025-06-11\n",
      "Max temperature: 23.3\n"
     ]
    }
   ],
   "source": [
    "max_temp = temps[0]\n",
    "max_date = dates[0]\n",
    "\n",
    "for i in range(0, 3):\n",
    "    if temps[i] > max_temp:\n",
    "        max_temp = temps[i]\n",
    "        max_date = dates[i]\n",
    "\n",
    "print(\"Hottest day:\", max_date)\n",
    "print(\"Max temperature:\", max_temp)"
   ]
  },
  {
   "cell_type": "markdown",
   "id": "3abb2124-e87a-4216-a0df-2dd7db811a12",
   "metadata": {},
   "source": [
    "### 11"
   ]
  },
  {
   "cell_type": "code",
   "execution_count": 17,
   "id": "420f3ab2-c9a0-4a84-a8cc-4bbf26d4610b",
   "metadata": {},
   "outputs": [
    {
     "data": {
      "text/plain": [
       "'Open-meteo was easier than weatherAPI because I did not need an API key. It was simple to use with only latitude and longitude. But it did not give feels-like temperature or country name.  I recommend Open-Meteo for beginners.'"
      ]
     },
     "execution_count": 17,
     "metadata": {},
     "output_type": "execute_result"
    }
   ],
   "source": [
    "\"Open-meteo was easier than weatherAPI because I did not need an API key. It was simple to use with only latitude and longitude. But it did not give feels-like temperature or country name.  I recommend Open-Meteo for beginners.\""
   ]
  },
  {
   "cell_type": "code",
   "execution_count": null,
   "id": "58daa8de-8602-4c5e-9025-4b1349981d71",
   "metadata": {},
   "outputs": [],
   "source": []
  }
 ],
 "metadata": {
  "kernelspec": {
   "display_name": "Python 3 (ipykernel)",
   "language": "python",
   "name": "python3"
  },
  "language_info": {
   "codemirror_mode": {
    "name": "ipython",
    "version": 3
   },
   "file_extension": ".py",
   "mimetype": "text/x-python",
   "name": "python",
   "nbconvert_exporter": "python",
   "pygments_lexer": "ipython3",
   "version": "3.11.8"
  }
 },
 "nbformat": 4,
 "nbformat_minor": 5
}
