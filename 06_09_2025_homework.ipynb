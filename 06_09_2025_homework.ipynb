{
 "cells": [
  {
   "cell_type": "markdown",
   "id": "7b10f5c8-4cf7-4a1e-8d94-bd2a067c4e04",
   "metadata": {},
   "source": [
    "# PART OWE:Geocoding"
   ]
  },
  {
   "cell_type": "code",
   "execution_count": 1,
   "id": "7e7eedad-1f07-4b9d-8246-5147ac7ed06b",
   "metadata": {},
   "outputs": [
    {
     "name": "stdout",
     "output_type": "stream",
     "text": [
      "/Users/yuta-uebayashi/Desktop/0609homework\n"
     ]
    }
   ],
   "source": [
    "!pwd"
   ]
  },
  {
   "cell_type": "code",
   "execution_count": 2,
   "id": "b0fae5c2-908f-4626-8eb8-79b9baebff65",
   "metadata": {},
   "outputs": [
    {
     "data": {
      "text/plain": [
       "[{'street': '100 Ihwajang-gil',\n",
       "  'city': 'Ihwa-dong',\n",
       "  'state': 'Jongno District',\n",
       "  'postal_code': 'Seoul',\n",
       "  'country': 'South Korea'},\n",
       " {'street': '4 Chome-1-1 Shimomeguro',\n",
       "  'city': ' Meguro City',\n",
       "  'state': 'Tokyo',\n",
       "  'postal_code': '153-0064',\n",
       "  'country': 'Japan'},\n",
       " {'street': '1126 Green Giant Ln',\n",
       "  'city': 'Blue Earth',\n",
       "  'state': 'MN',\n",
       "  'postal_code': '56013',\n",
       "  'country': ''},\n",
       " {'street': '7477 Hubbard Ave',\n",
       "  'city': 'Middleton',\n",
       "  'state': 'WI',\n",
       "  'postal_code': '53562',\n",
       "  'country': ''},\n",
       " {'street': 'Wrocławska 12',\n",
       "  'city': '',\n",
       "  'state': 'Poznań',\n",
       "  'postal_code': '61-838',\n",
       "  'country': 'Poland'}]"
      ]
     },
     "execution_count": 2,
     "metadata": {},
     "output_type": "execute_result"
    }
   ],
   "source": [
    "import csv\n",
    "\n",
    "with open('addresses.csv') as fp:\n",
    "    data = list(csv.DictReader(fp))\n",
    "\n",
    "data"
   ]
  },
  {
   "cell_type": "code",
   "execution_count": 3,
   "id": "7773a2fd-1b5f-46eb-a2ba-ad46ae7496c8",
   "metadata": {},
   "outputs": [
    {
     "name": "stdout",
     "output_type": "stream",
     "text": [
      "Requirement already satisfied: geocoder in /Users/yuta-uebayashi/.pyenv/versions/3.12.3/lib/python3.12/site-packages (1.38.1)\n",
      "Requirement already satisfied: click in /Users/yuta-uebayashi/.pyenv/versions/3.12.3/lib/python3.12/site-packages (from geocoder) (8.1.8)\n",
      "Requirement already satisfied: future in /Users/yuta-uebayashi/.pyenv/versions/3.12.3/lib/python3.12/site-packages (from geocoder) (1.0.0)\n",
      "Requirement already satisfied: ratelim in /Users/yuta-uebayashi/.pyenv/versions/3.12.3/lib/python3.12/site-packages (from geocoder) (0.1.6)\n",
      "Requirement already satisfied: requests in /Users/yuta-uebayashi/.pyenv/versions/3.12.3/lib/python3.12/site-packages (from geocoder) (2.32.3)\n",
      "Requirement already satisfied: six in /Users/yuta-uebayashi/.pyenv/versions/3.12.3/lib/python3.12/site-packages (from geocoder) (1.17.0)\n",
      "Requirement already satisfied: decorator in /Users/yuta-uebayashi/.pyenv/versions/3.12.3/lib/python3.12/site-packages (from ratelim->geocoder) (5.2.1)\n",
      "Requirement already satisfied: charset-normalizer<4,>=2 in /Users/yuta-uebayashi/.pyenv/versions/3.12.3/lib/python3.12/site-packages (from requests->geocoder) (3.4.2)\n",
      "Requirement already satisfied: idna<4,>=2.5 in /Users/yuta-uebayashi/.pyenv/versions/3.12.3/lib/python3.12/site-packages (from requests->geocoder) (3.10)\n",
      "Requirement already satisfied: urllib3<3,>=1.21.1 in /Users/yuta-uebayashi/.pyenv/versions/3.12.3/lib/python3.12/site-packages (from requests->geocoder) (2.4.0)\n",
      "Requirement already satisfied: certifi>=2017.4.17 in /Users/yuta-uebayashi/.pyenv/versions/3.12.3/lib/python3.12/site-packages (from requests->geocoder) (2025.4.26)\n",
      "\n",
      "\u001b[1m[\u001b[0m\u001b[34;49mnotice\u001b[0m\u001b[1;39;49m]\u001b[0m\u001b[39;49m A new release of pip is available: \u001b[0m\u001b[31;49m24.0\u001b[0m\u001b[39;49m -> \u001b[0m\u001b[32;49m25.1.1\u001b[0m\n",
      "\u001b[1m[\u001b[0m\u001b[34;49mnotice\u001b[0m\u001b[1;39;49m]\u001b[0m\u001b[39;49m To update, run: \u001b[0m\u001b[32;49mpip install --upgrade pip\u001b[0m\n"
     ]
    }
   ],
   "source": [
    "!pip install geocoder"
   ]
  },
  {
   "cell_type": "code",
   "execution_count": 4,
   "id": "932c0f92-d269-4791-8f58-355042bd27f9",
   "metadata": {},
   "outputs": [
    {
     "name": "stdout",
     "output_type": "stream",
     "text": [
      "100 Ihwajang-gil, Ihwa-dong, Jongno District, Seoul, South Korea\n",
      "4 Chome-1-1 Shimomeguro,  Meguro City, Tokyo, 153-0064, Japan\n",
      "1126 Green Giant Ln, Blue Earth, MN, 56013, \n",
      "7477 Hubbard Ave, Middleton, WI, 53562, \n",
      "Wrocławska 12, , Poznań, 61-838, Poland\n"
     ]
    }
   ],
   "source": [
    "for row in data:\n",
    "    address = row['street'] + ', ' + row['city'] + ', ' + row['state'] + ', ' + row['postal_code'] + ', ' + row['country']\n",
    "    print(address)"
   ]
  },
  {
   "cell_type": "code",
   "execution_count": 5,
   "id": "942e984d-1734-4017-822c-48881d568433",
   "metadata": {},
   "outputs": [
    {
     "name": "stdout",
     "output_type": "stream",
     "text": [
      "/Users/yuta-uebayashi/.pyenv/versions/3.11.8/bin/python\n"
     ]
    }
   ],
   "source": [
    "import sys\n",
    "print(sys.executable)"
   ]
  },
  {
   "cell_type": "code",
   "execution_count": 6,
   "id": "7748fec4-d71e-4ed2-bb99-4cf94d2c2f96",
   "metadata": {},
   "outputs": [
    {
     "name": "stdout",
     "output_type": "stream",
     "text": [
      "Requirement already satisfied: geocoder in /Users/yuta-uebayashi/.pyenv/versions/3.11.8/lib/python3.11/site-packages (1.38.1)\n",
      "Requirement already satisfied: click in /Users/yuta-uebayashi/.pyenv/versions/3.11.8/lib/python3.11/site-packages (from geocoder) (8.2.1)\n",
      "Requirement already satisfied: future in /Users/yuta-uebayashi/.pyenv/versions/3.11.8/lib/python3.11/site-packages (from geocoder) (1.0.0)\n",
      "Requirement already satisfied: ratelim in /Users/yuta-uebayashi/.pyenv/versions/3.11.8/lib/python3.11/site-packages (from geocoder) (0.1.6)\n",
      "Requirement already satisfied: requests in /Users/yuta-uebayashi/.pyenv/versions/3.11.8/lib/python3.11/site-packages (from geocoder) (2.32.3)\n",
      "Requirement already satisfied: six in /Users/yuta-uebayashi/.pyenv/versions/3.11.8/lib/python3.11/site-packages (from geocoder) (1.17.0)\n",
      "Requirement already satisfied: decorator in /Users/yuta-uebayashi/.pyenv/versions/3.11.8/lib/python3.11/site-packages (from ratelim->geocoder) (5.1.1)\n",
      "Requirement already satisfied: charset-normalizer<4,>=2 in /Users/yuta-uebayashi/.pyenv/versions/3.11.8/lib/python3.11/site-packages (from requests->geocoder) (3.4.1)\n",
      "Requirement already satisfied: idna<4,>=2.5 in /Users/yuta-uebayashi/.pyenv/versions/3.11.8/lib/python3.11/site-packages (from requests->geocoder) (3.10)\n",
      "Requirement already satisfied: urllib3<3,>=1.21.1 in /Users/yuta-uebayashi/.pyenv/versions/3.11.8/lib/python3.11/site-packages (from requests->geocoder) (2.3.0)\n",
      "Requirement already satisfied: certifi>=2017.4.17 in /Users/yuta-uebayashi/.pyenv/versions/3.11.8/lib/python3.11/site-packages (from requests->geocoder) (2025.1.31)\n",
      "\n",
      "\u001b[1m[\u001b[0m\u001b[34;49mnotice\u001b[0m\u001b[1;39;49m]\u001b[0m\u001b[39;49m A new release of pip is available: \u001b[0m\u001b[31;49m24.0\u001b[0m\u001b[39;49m -> \u001b[0m\u001b[32;49m25.1.1\u001b[0m\n",
      "\u001b[1m[\u001b[0m\u001b[34;49mnotice\u001b[0m\u001b[1;39;49m]\u001b[0m\u001b[39;49m To update, run: \u001b[0m\u001b[32;49m/Users/yuta-uebayashi/.pyenv/versions/3.11.8/bin/python -m pip install --upgrade pip\u001b[0m\n"
     ]
    }
   ],
   "source": [
    "import sys\n",
    "!{sys.executable} -m pip install geocoder"
   ]
  },
  {
   "cell_type": "code",
   "execution_count": 7,
   "id": "b1e2b9f3-8588-4197-a060-9710180ad5dc",
   "metadata": {},
   "outputs": [
    {
     "name": "stdout",
     "output_type": "stream",
     "text": [
      "Requirement already satisfied: python-dotenv in /Users/yuta-uebayashi/.pyenv/versions/3.11.8/lib/python3.11/site-packages (1.1.0)\n",
      "\n",
      "\u001b[1m[\u001b[0m\u001b[34;49mnotice\u001b[0m\u001b[1;39;49m]\u001b[0m\u001b[39;49m A new release of pip is available: \u001b[0m\u001b[31;49m24.0\u001b[0m\u001b[39;49m -> \u001b[0m\u001b[32;49m25.1.1\u001b[0m\n",
      "\u001b[1m[\u001b[0m\u001b[34;49mnotice\u001b[0m\u001b[1;39;49m]\u001b[0m\u001b[39;49m To update, run: \u001b[0m\u001b[32;49m/Users/yuta-uebayashi/.pyenv/versions/3.11.8/bin/python -m pip install --upgrade pip\u001b[0m\n",
      "Note: you may need to restart the kernel to use updated packages.\n"
     ]
    }
   ],
   "source": [
    "pip install python-dotenv"
   ]
  },
  {
   "cell_type": "code",
   "execution_count": 8,
   "id": "13684740-1d8b-4151-8bc7-5e49d72193fd",
   "metadata": {},
   "outputs": [],
   "source": [
    "import geocoder"
   ]
  },
  {
   "cell_type": "code",
   "execution_count": 9,
   "id": "d2be36e0-767b-40c9-a447-a1a8d5624baf",
   "metadata": {},
   "outputs": [],
   "source": [
    "from dotenv import load_dotenv\n",
    "load_dotenv()\n",
    "import os"
   ]
  },
  {
   "cell_type": "code",
   "execution_count": 10,
   "id": "4930a30c-d11f-480e-9003-a9192437309b",
   "metadata": {},
   "outputs": [
    {
     "ename": "TypeError",
     "evalue": "'NoneType' object is not subscriptable",
     "output_type": "error",
     "traceback": [
      "\u001b[0;31m---------------------------------------------------------------------------\u001b[0m",
      "\u001b[0;31mTypeError\u001b[0m                                 Traceback (most recent call last)",
      "Cell \u001b[0;32mIn[10], line 8\u001b[0m\n\u001b[1;32m      4\u001b[0m address \u001b[38;5;241m=\u001b[39m \u001b[38;5;124m\"\u001b[39m\u001b[38;5;132;01m{street}\u001b[39;00m\u001b[38;5;124m, \u001b[39m\u001b[38;5;132;01m{city}\u001b[39;00m\u001b[38;5;124m, \u001b[39m\u001b[38;5;132;01m{state}\u001b[39;00m\u001b[38;5;124m, \u001b[39m\u001b[38;5;132;01m{postal_code}\u001b[39;00m\u001b[38;5;124m, \u001b[39m\u001b[38;5;132;01m{country}\u001b[39;00m\u001b[38;5;124m\"\u001b[39m\u001b[38;5;241m.\u001b[39mformat(\u001b[38;5;241m*\u001b[39m\u001b[38;5;241m*\u001b[39mlocation)\n\u001b[1;32m      6\u001b[0m g \u001b[38;5;241m=\u001b[39m geocoder\u001b[38;5;241m.\u001b[39mgoogle(address, key\u001b[38;5;241m=\u001b[39mAPI_key)\n\u001b[0;32m----> 8\u001b[0m location[\u001b[38;5;124m'\u001b[39m\u001b[38;5;124mlat\u001b[39m\u001b[38;5;124m'\u001b[39m] \u001b[38;5;241m=\u001b[39m \u001b[43mg\u001b[49m\u001b[38;5;241;43m.\u001b[39;49m\u001b[43mlatlng\u001b[49m\u001b[43m[\u001b[49m\u001b[38;5;241;43m0\u001b[39;49m\u001b[43m]\u001b[49m \n\u001b[1;32m      9\u001b[0m location[\u001b[38;5;124m'\u001b[39m\u001b[38;5;124mlon\u001b[39m\u001b[38;5;124m'\u001b[39m] \u001b[38;5;241m=\u001b[39m g\u001b[38;5;241m.\u001b[39mlatlng[\u001b[38;5;241m1\u001b[39m]\n\u001b[1;32m     11\u001b[0m lat_str \u001b[38;5;241m=\u001b[39m \u001b[38;5;124mf\u001b[39m\u001b[38;5;124m\"\u001b[39m\u001b[38;5;132;01m{\u001b[39;00mlocation[\u001b[38;5;124m'\u001b[39m\u001b[38;5;124mlat\u001b[39m\u001b[38;5;124m'\u001b[39m]\u001b[38;5;132;01m}\u001b[39;00m\u001b[38;5;124m\"\u001b[39m\n",
      "\u001b[0;31mTypeError\u001b[0m: 'NoneType' object is not subscriptable"
     ]
    }
   ],
   "source": [
    "API_key = os.getenv(\"API_key\")\n",
    "\n",
    "for location in data:\n",
    "    address = \"{street}, {city}, {state}, {postal_code}, {country}\".format(**location)\n",
    "    \n",
    "    g = geocoder.google(address, key=API_key)\n",
    "\n",
    "    location['lat'] = g.latlng[0] \n",
    "    location['lon'] = g.latlng[1]\n",
    "\n",
    "    lat_str = f\"{location['lat']}\"\n",
    "    lon_str = f\"{location['lon']}\"\n",
    "    \n",
    "    print(f\"{address}, lat: {lat_str}, lon: {lon_str}\")"
   ]
  },
  {
   "cell_type": "code",
   "execution_count": null,
   "id": "2f514513-4edc-482c-a7cc-82804f845153",
   "metadata": {},
   "outputs": [],
   "source": [
    "data = [\n",
    "    {\n",
    "        'street': '100 Ihwajang-gil, Ihwa-dong',\n",
    "        'city': 'Jongno District',\n",
    "        'state': 'Seoul',\n",
    "        'postal_code': '',\n",
    "        'country': 'South Korea',\n",
    "        'lat': 37.5798019,\n",
    "        'lon': 127.0046643\n",
    "    },\n",
    "    {\n",
    "        'street': '4 Chome-1-1 Shimomeguro',\n",
    "        'city': 'Meguro City',\n",
    "        'state': 'Tokyo',\n",
    "        'postal_code': '153-0064',\n",
    "        'country': 'Japan',\n",
    "        'lat': 35.6317048,\n",
    "        'lon': 139.706685\n",
    "    },\n",
    "    {\n",
    "        'street': '1126 Green Giant Ln',\n",
    "        'city': 'Blue Earth',\n",
    "        'state': 'MN',\n",
    "        'postal_code': '56013',\n",
    "        'country': 'USA',\n",
    "        'lat': 43.650971,\n",
    "        'lon': -94.095679\n",
    "    },\n",
    "    {\n",
    "        'street': '7477 Hubbard Ave',\n",
    "        'city': 'Middleton',\n",
    "        'state': 'WI',\n",
    "        'postal_code': '53562',\n",
    "        'country': 'USA',\n",
    "        'lat': 43.0952876,\n",
    "        'lon': -89.5112337\n",
    "    },\n",
    "    {\n",
    "        'street': 'Wrocławska 12',\n",
    "        'city': 'Poznań',\n",
    "        'state': '',\n",
    "        'postal_code': '61-838',\n",
    "        'country': 'Poland',\n",
    "        'lat': 52.4065344,\n",
    "        'lon': 16.9327697\n",
    "    }\n",
    "]"
   ]
  },
  {
   "cell_type": "code",
   "execution_count": null,
   "id": "2d42e507-27df-45f6-a682-377b425afb40",
   "metadata": {},
   "outputs": [],
   "source": [
    "import csv\n",
    "\n",
    "with open('addresses-geocoded.csv', 'w') as fp:\n",
    "    fieldnames=['street','city','state','postal_code','country','lat', 'lon']\n",
    "\n",
    "    writer = csv.DictWriter(fp, fieldnames=fieldnames)\n",
    "    writer.writeheader()\n",
    "    for row in data:\n",
    "        writer.writerow(row)"
   ]
  },
  {
   "cell_type": "markdown",
   "id": "484170f2-29b5-4e43-8889-cc62c8f63e2a",
   "metadata": {},
   "source": [
    "# PART TWO:A WeatherAPI alternative"
   ]
  },
  {
   "cell_type": "code",
   "execution_count": null,
   "id": "276357b3-c542-4923-aa07-b7fe37d22be6",
   "metadata": {},
   "outputs": [],
   "source": [
    "#Examine both Open Meteo and Tomorrow and decide which one you'd prefer to use. What drove your decision?\n",
    "\"I chose Open-Meteo because it's easy to use. You don’t need an API key. You just add the latitude and longitude to the URL, and you can get the weather forecast quickly.\""
   ]
  },
  {
   "cell_type": "code",
   "execution_count": null,
   "id": "856f5193-1bc9-4b3f-8fbb-e8c84f653cef",
   "metadata": {},
   "outputs": [],
   "source": [
    "#What is the URL to the documentation?\n",
    "'https://open-meteo.com/en/docs'"
   ]
  },
  {
   "cell_type": "code",
   "execution_count": null,
   "id": "9e27aae9-0cd1-40dd-b313-e3ac4a41f429",
   "metadata": {},
   "outputs": [],
   "source": [
    "#Make a request for the current weather where you are born, or somewhere you've lived.\n",
    "import requests\n",
    "\n",
    "url = f\"https://api.open-meteo.com/v1/forecast?latitude={38.2682}&longitude={140.8694}&current_weather=true&timezone=auto\"\n",
    "\n",
    "response = requests.get(url)\n",
    "data = response.json()\n",
    "\n",
    "print(data['current_weather'][\"temperature\"])\n"
   ]
  },
  {
   "cell_type": "code",
   "execution_count": null,
   "id": "76d801f9-4150-4a0b-97f8-057661a38ce2",
   "metadata": {},
   "outputs": [],
   "source": [
    "#Print out the country this location is in.\n",
    "print(\"Country: Japan\")\n"
   ]
  },
  {
   "cell_type": "code",
   "execution_count": null,
   "id": "4e9f313e-4491-4a2d-9126-ec4946762442",
   "metadata": {},
   "outputs": [],
   "source": [
    "#Print out the difference between the current temperature and how warm it feels. Use \"It feels ___ degrees colder\" or \"It feels ___ degrees warmer,\" not negative numbers.\n",
    "print(\"Open-Meteo does not provide 'feels like' temperature.\")"
   ]
  },
  {
   "cell_type": "code",
   "execution_count": null,
   "id": "774d229b-89a1-4d64-8185-430e48b14c74",
   "metadata": {},
   "outputs": [],
   "source": [
    "#What's the current temperature at Heathrow International Airport? Use the airport's IATA code to search.\n",
    "lat = 51.4700\n",
    "lon = -0.4543\n",
    "\n",
    "url_lhr = f\"https://api.open-meteo.com/v1/forecast?latitude={lat}&longitude={lon}&current_weather=true&timezone=auto\"\n",
    "\n",
    "response_lhr = requests.get(url_lhr)\n",
    "data_lhr = response_lhr.json()\n",
    "\n",
    "print(\"Heathrow temp:\", data_lhr[\"current_weather\"][\"temperature\"])"
   ]
  },
  {
   "cell_type": "code",
   "execution_count": null,
   "id": "82567fec-c84e-4354-9850-41e38794d852",
   "metadata": {},
   "outputs": [],
   "source": [
    "#What URL would I use to request a 3-day forecast at Heathrow?\n",
    "url_forecast = (\n",
    "    \"https://api.open-meteo.com/v1/forecast\"\n",
    "    \"?latitude=51.4712\"\n",
    "    \"&longitude=-0.4565\"\n",
    "    \"&daily=temperature_2m_max\"\n",
    "    \"&forecast_days=3\"\n",
    "    \"&timezone=auto\"\n",
    ")\n",
    "print(url_forecast)"
   ]
  },
  {
   "cell_type": "code",
   "execution_count": null,
   "id": "15b43f2f",
   "metadata": {},
   "outputs": [],
   "source": [
    "#Print the date of each of the 3 days you're getting a forecast for.\n",
    "for day in range(3):\n",
    "    print(\"Date:\", dates[day])"
   ]
  },
  {
   "cell_type": "code",
   "execution_count": null,
   "id": "92e6dd20-7aed-46c8-82d3-ad5068e049d9",
   "metadata": {},
   "outputs": [],
   "source": [
    "#Print the maximum temperature of each of the days.\n",
    "import requests\n",
    "\n",
    "response_forecast = requests.get(url_forecast)\n",
    "forecast = response_forecast.json()\n",
    "\n",
    "dates = forecast[\"daily\"][\"time\"]\n",
    "temps = forecast[\"daily\"][\"temperature_2m_max\"]\n",
    "\n",
    "for day in range(3):\n",
    "    print(\"Date:\", dates[day])\n",
    "    print(\"Max temperature:\", temps[day])"
   ]
  },
  {
   "cell_type": "code",
   "execution_count": null,
   "id": "3a703fa1-6f5b-40f2-960b-7b7393191733",
   "metadata": {},
   "outputs": [],
   "source": [
    "#Print only the day with the highest maximum temperature.\n",
    "highest_temp = 0\n",
    "highest_temp_day = \"\"\n",
    "\n",
    "for temp in range(3):\n",
    "    if temps[temp] > highest_temp:\n",
    "        highest_temp = temps[temp]\n",
    "        highest_temp_day = dates[temp]\n",
    "\n",
    "print(\"Date:\", highest_temp_day)\n",
    "print(\"Max temperature:\", highest_temp)"
   ]
  },
  {
   "cell_type": "code",
   "execution_count": null,
   "id": "420f3ab2-c9a0-4a84-a8cc-4bbf26d4610b",
   "metadata": {},
   "outputs": [],
   "source": [
    "#Did you find this easier or more difficult than using the weatherapi.com, and why? Which would you recommend to someone interesting in building a tool around weather information?\n",
    "\"Open-meteo was easier than weatherAPI because I did not need an API key. It was simple to use with only latitude and longitude. But it did not give feels-like temperature or country name.  I recommend Open-Meteo for beginners.\""
   ]
  },
  {
   "cell_type": "code",
   "execution_count": null,
   "id": "58daa8de-8602-4c5e-9025-4b1349981d71",
   "metadata": {},
   "outputs": [],
   "source": []
  }
 ],
 "metadata": {
  "kernelspec": {
   "display_name": "Python 3 (ipykernel)",
   "language": "python",
   "name": "python3"
  },
  "language_info": {
   "codemirror_mode": {
    "name": "ipython",
    "version": 3
   },
   "file_extension": ".py",
   "mimetype": "text/x-python",
   "name": "python",
   "nbconvert_exporter": "python",
   "pygments_lexer": "ipython3",
   "version": "3.11.8"
  }
 },
 "nbformat": 4,
 "nbformat_minor": 5
}
