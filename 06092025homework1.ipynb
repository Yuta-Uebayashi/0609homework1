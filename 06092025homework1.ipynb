{
 "cells": [
  {
   "cell_type": "code",
   "execution_count": 22,
   "id": "7e7eedad-1f07-4b9d-8246-5147ac7ed06b",
   "metadata": {},
   "outputs": [
    {
     "name": "stdout",
     "output_type": "stream",
     "text": [
      "/Users/yuta-uebayashi/Desktop/06092025homework\n"
     ]
    }
   ],
   "source": [
    "!pwd"
   ]
  },
  {
   "cell_type": "code",
   "execution_count": 23,
   "id": "b0fae5c2-908f-4626-8eb8-79b9baebff65",
   "metadata": {},
   "outputs": [
    {
     "data": {
      "text/plain": [
       "[{'street': '100 Ihwajang-gil',\n",
       "  'city': 'Ihwa-dong',\n",
       "  'state': 'Jongno District',\n",
       "  'postal_code': 'Seoul',\n",
       "  'country': 'South Korea'},\n",
       " {'street': '4 Chome-1-1 Shimomeguro',\n",
       "  'city': ' Meguro City',\n",
       "  'state': 'Tokyo',\n",
       "  'postal_code': '153-0064',\n",
       "  'country': 'Japan'},\n",
       " {'street': '1126 Green Giant Ln',\n",
       "  'city': 'Blue Earth',\n",
       "  'state': 'MN',\n",
       "  'postal_code': '56013',\n",
       "  'country': ''},\n",
       " {'street': '7477 Hubbard Ave',\n",
       "  'city': 'Middleton',\n",
       "  'state': 'WI',\n",
       "  'postal_code': '53562',\n",
       "  'country': ''},\n",
       " {'street': 'Wrocławska 12',\n",
       "  'city': '',\n",
       "  'state': 'Poznań',\n",
       "  'postal_code': '61-838',\n",
       "  'country': 'Poland'}]"
      ]
     },
     "execution_count": 23,
     "metadata": {},
     "output_type": "execute_result"
    }
   ],
   "source": [
    "import csv\n",
    "\n",
    "with open('addresses.csv') as fp:\n",
    "    data = list(csv.DictReader(fp))\n",
    "\n",
    "data"
   ]
  },
  {
   "cell_type": "code",
   "execution_count": 24,
   "id": "7773a2fd-1b5f-46eb-a2ba-ad46ae7496c8",
   "metadata": {},
   "outputs": [
    {
     "name": "stdout",
     "output_type": "stream",
     "text": [
      "Requirement already satisfied: geocoder in /Users/yuta-uebayashi/.pyenv/versions/3.12.3/lib/python3.12/site-packages (1.38.1)\n",
      "Requirement already satisfied: click in /Users/yuta-uebayashi/.pyenv/versions/3.12.3/lib/python3.12/site-packages (from geocoder) (8.1.8)\n",
      "Requirement already satisfied: future in /Users/yuta-uebayashi/.pyenv/versions/3.12.3/lib/python3.12/site-packages (from geocoder) (1.0.0)\n",
      "Requirement already satisfied: ratelim in /Users/yuta-uebayashi/.pyenv/versions/3.12.3/lib/python3.12/site-packages (from geocoder) (0.1.6)\n",
      "Requirement already satisfied: requests in /Users/yuta-uebayashi/.pyenv/versions/3.12.3/lib/python3.12/site-packages (from geocoder) (2.32.3)\n",
      "Requirement already satisfied: six in /Users/yuta-uebayashi/.pyenv/versions/3.12.3/lib/python3.12/site-packages (from geocoder) (1.17.0)\n",
      "Requirement already satisfied: decorator in /Users/yuta-uebayashi/.pyenv/versions/3.12.3/lib/python3.12/site-packages (from ratelim->geocoder) (5.2.1)\n",
      "Requirement already satisfied: charset-normalizer<4,>=2 in /Users/yuta-uebayashi/.pyenv/versions/3.12.3/lib/python3.12/site-packages (from requests->geocoder) (3.4.2)\n",
      "Requirement already satisfied: idna<4,>=2.5 in /Users/yuta-uebayashi/.pyenv/versions/3.12.3/lib/python3.12/site-packages (from requests->geocoder) (3.10)\n",
      "Requirement already satisfied: urllib3<3,>=1.21.1 in /Users/yuta-uebayashi/.pyenv/versions/3.12.3/lib/python3.12/site-packages (from requests->geocoder) (2.4.0)\n",
      "Requirement already satisfied: certifi>=2017.4.17 in /Users/yuta-uebayashi/.pyenv/versions/3.12.3/lib/python3.12/site-packages (from requests->geocoder) (2025.4.26)\n",
      "\n",
      "\u001b[1m[\u001b[0m\u001b[34;49mnotice\u001b[0m\u001b[1;39;49m]\u001b[0m\u001b[39;49m A new release of pip is available: \u001b[0m\u001b[31;49m24.0\u001b[0m\u001b[39;49m -> \u001b[0m\u001b[32;49m25.1.1\u001b[0m\n",
      "\u001b[1m[\u001b[0m\u001b[34;49mnotice\u001b[0m\u001b[1;39;49m]\u001b[0m\u001b[39;49m To update, run: \u001b[0m\u001b[32;49mpip install --upgrade pip\u001b[0m\n"
     ]
    }
   ],
   "source": [
    "!pip install geocoder"
   ]
  },
  {
   "cell_type": "code",
   "execution_count": 25,
   "id": "932c0f92-d269-4791-8f58-355042bd27f9",
   "metadata": {},
   "outputs": [
    {
     "name": "stdout",
     "output_type": "stream",
     "text": [
      "100 Ihwajang-gil, Ihwa-dong, Jongno District, Seoul, South Korea\n",
      "4 Chome-1-1 Shimomeguro,  Meguro City, Tokyo, 153-0064, Japan\n",
      "1126 Green Giant Ln, Blue Earth, MN, 56013, \n",
      "7477 Hubbard Ave, Middleton, WI, 53562, \n",
      "Wrocławska 12, , Poznań, 61-838, Poland\n"
     ]
    }
   ],
   "source": [
    "for row in data:\n",
    "    address = row['street'] + ', ' + row['city'] + ', ' + row['state'] + ', ' + row['postal_code'] + ', ' + row['country']\n",
    "    print(address)"
   ]
  },
  {
   "cell_type": "code",
   "execution_count": 26,
   "id": "942e984d-1734-4017-822c-48881d568433",
   "metadata": {},
   "outputs": [
    {
     "name": "stdout",
     "output_type": "stream",
     "text": [
      "/Users/yuta-uebayashi/.pyenv/versions/3.11.8/bin/python\n"
     ]
    }
   ],
   "source": [
    "import sys\n",
    "print(sys.executable)"
   ]
  },
  {
   "cell_type": "code",
   "execution_count": 27,
   "id": "7748fec4-d71e-4ed2-bb99-4cf94d2c2f96",
   "metadata": {},
   "outputs": [
    {
     "name": "stdout",
     "output_type": "stream",
     "text": [
      "Requirement already satisfied: geocoder in /Users/yuta-uebayashi/.pyenv/versions/3.11.8/lib/python3.11/site-packages (1.38.1)\n",
      "Requirement already satisfied: click in /Users/yuta-uebayashi/.pyenv/versions/3.11.8/lib/python3.11/site-packages (from geocoder) (8.2.1)\n",
      "Requirement already satisfied: future in /Users/yuta-uebayashi/.pyenv/versions/3.11.8/lib/python3.11/site-packages (from geocoder) (1.0.0)\n",
      "Requirement already satisfied: ratelim in /Users/yuta-uebayashi/.pyenv/versions/3.11.8/lib/python3.11/site-packages (from geocoder) (0.1.6)\n",
      "Requirement already satisfied: requests in /Users/yuta-uebayashi/.pyenv/versions/3.11.8/lib/python3.11/site-packages (from geocoder) (2.32.3)\n",
      "Requirement already satisfied: six in /Users/yuta-uebayashi/.pyenv/versions/3.11.8/lib/python3.11/site-packages (from geocoder) (1.17.0)\n",
      "Requirement already satisfied: decorator in /Users/yuta-uebayashi/.pyenv/versions/3.11.8/lib/python3.11/site-packages (from ratelim->geocoder) (5.1.1)\n",
      "Requirement already satisfied: charset-normalizer<4,>=2 in /Users/yuta-uebayashi/.pyenv/versions/3.11.8/lib/python3.11/site-packages (from requests->geocoder) (3.4.1)\n",
      "Requirement already satisfied: idna<4,>=2.5 in /Users/yuta-uebayashi/.pyenv/versions/3.11.8/lib/python3.11/site-packages (from requests->geocoder) (3.10)\n",
      "Requirement already satisfied: urllib3<3,>=1.21.1 in /Users/yuta-uebayashi/.pyenv/versions/3.11.8/lib/python3.11/site-packages (from requests->geocoder) (2.3.0)\n",
      "Requirement already satisfied: certifi>=2017.4.17 in /Users/yuta-uebayashi/.pyenv/versions/3.11.8/lib/python3.11/site-packages (from requests->geocoder) (2025.1.31)\n",
      "\n",
      "\u001b[1m[\u001b[0m\u001b[34;49mnotice\u001b[0m\u001b[1;39;49m]\u001b[0m\u001b[39;49m A new release of pip is available: \u001b[0m\u001b[31;49m24.0\u001b[0m\u001b[39;49m -> \u001b[0m\u001b[32;49m25.1.1\u001b[0m\n",
      "\u001b[1m[\u001b[0m\u001b[34;49mnotice\u001b[0m\u001b[1;39;49m]\u001b[0m\u001b[39;49m To update, run: \u001b[0m\u001b[32;49m/Users/yuta-uebayashi/.pyenv/versions/3.11.8/bin/python -m pip install --upgrade pip\u001b[0m\n"
     ]
    }
   ],
   "source": [
    "import sys\n",
    "!{sys.executable} -m pip install geocoder"
   ]
  },
  {
   "cell_type": "code",
   "execution_count": 30,
   "id": "b1e2b9f3-8588-4197-a060-9710180ad5dc",
   "metadata": {},
   "outputs": [
    {
     "name": "stdout",
     "output_type": "stream",
     "text": [
      "Requirement already satisfied: python-dotenv in /Users/yuta-uebayashi/.pyenv/versions/3.11.8/lib/python3.11/site-packages (1.1.0)\n",
      "\n",
      "\u001b[1m[\u001b[0m\u001b[34;49mnotice\u001b[0m\u001b[1;39;49m]\u001b[0m\u001b[39;49m A new release of pip is available: \u001b[0m\u001b[31;49m24.0\u001b[0m\u001b[39;49m -> \u001b[0m\u001b[32;49m25.1.1\u001b[0m\n",
      "\u001b[1m[\u001b[0m\u001b[34;49mnotice\u001b[0m\u001b[1;39;49m]\u001b[0m\u001b[39;49m To update, run: \u001b[0m\u001b[32;49m/Users/yuta-uebayashi/.pyenv/versions/3.11.8/bin/python -m pip install --upgrade pip\u001b[0m\n",
      "Note: you may need to restart the kernel to use updated packages.\n"
     ]
    }
   ],
   "source": [
    "pip install python-dotenv"
   ]
  },
  {
   "cell_type": "code",
   "execution_count": 31,
   "id": "13684740-1d8b-4151-8bc7-5e49d72193fd",
   "metadata": {},
   "outputs": [],
   "source": [
    "import geocoder"
   ]
  },
  {
   "cell_type": "code",
   "execution_count": 39,
   "id": "d2be36e0-767b-40c9-a447-a1a8d5624baf",
   "metadata": {},
   "outputs": [],
   "source": [
    "from dotenv import load_dotenv\n",
    "load_dotenv()\n",
    "import os"
   ]
  },
  {
   "cell_type": "code",
   "execution_count": 40,
   "id": "4930a30c-d11f-480e-9003-a9192437309b",
   "metadata": {},
   "outputs": [
    {
     "name": "stdout",
     "output_type": "stream",
     "text": [
      "100 Ihwajang-gil, Ihwa-dong, Jongno District, Seoul, , South Korea, lat: 37.5798019, lon: 127.0046643\n",
      "4 Chome-1-1 Shimomeguro, Meguro City, Tokyo, 153-0064, Japan, lat: 35.6317048, lon: 139.706685\n",
      "1126 Green Giant Ln, Blue Earth, MN, 56013, USA, lat: 43.650971, lon: -94.09567899999999\n",
      "7477 Hubbard Ave, Middleton, WI, 53562, USA, lat: 43.0952876, lon: -89.51123369999999\n",
      "Wrocławska 12, Poznań, , 61-838, Poland, lat: 52.4065344, lon: 16.9327697\n"
     ]
    }
   ],
   "source": [
    "API_key = os.getenv(\"API_key\")\n",
    "\n",
    "for location in data:\n",
    "    address = \"{street}, {city}, {state}, {postal_code}, {country}\".format(**location)\n",
    "    \n",
    "    g = geocoder.google(address, key=API_key)\n",
    "\n",
    "    location['lat'] = g.latlng[0] \n",
    "    location['lon'] = g.latlng[1]\n",
    "\n",
    "    lat_str = f\"{location['lat']}\"\n",
    "    lon_str = f\"{location['lon']}\"\n",
    "    \n",
    "    print(f\"{address}, lat: {lat_str}, lon: {lon_str}\")"
   ]
  },
  {
   "cell_type": "code",
   "execution_count": 34,
   "id": "2f514513-4edc-482c-a7cc-82804f845153",
   "metadata": {},
   "outputs": [],
   "source": [
    "data = [\n",
    "    {\n",
    "        'street': '100 Ihwajang-gil, Ihwa-dong',\n",
    "        'city': 'Jongno District',\n",
    "        'state': 'Seoul',\n",
    "        'postal_code': '',\n",
    "        'country': 'South Korea',\n",
    "        'lat': 37.5798019,\n",
    "        'lon': 127.0046643\n",
    "    },\n",
    "    {\n",
    "        'street': '4 Chome-1-1 Shimomeguro',\n",
    "        'city': 'Meguro City',\n",
    "        'state': 'Tokyo',\n",
    "        'postal_code': '153-0064',\n",
    "        'country': 'Japan',\n",
    "        'lat': 35.6317048,\n",
    "        'lon': 139.706685\n",
    "    },\n",
    "    {\n",
    "        'street': '1126 Green Giant Ln',\n",
    "        'city': 'Blue Earth',\n",
    "        'state': 'MN',\n",
    "        'postal_code': '56013',\n",
    "        'country': 'USA',\n",
    "        'lat': 43.650971,\n",
    "        'lon': -94.095679\n",
    "    },\n",
    "    {\n",
    "        'street': '7477 Hubbard Ave',\n",
    "        'city': 'Middleton',\n",
    "        'state': 'WI',\n",
    "        'postal_code': '53562',\n",
    "        'country': 'USA',\n",
    "        'lat': 43.0952876,\n",
    "        'lon': -89.5112337\n",
    "    },\n",
    "    {\n",
    "        'street': 'Wrocławska 12',\n",
    "        'city': 'Poznań',\n",
    "        'state': '',\n",
    "        'postal_code': '61-838',\n",
    "        'country': 'Poland',\n",
    "        'lat': 52.4065344,\n",
    "        'lon': 16.9327697\n",
    "    }\n",
    "]"
   ]
  },
  {
   "cell_type": "code",
   "execution_count": 41,
   "id": "2d42e507-27df-45f6-a682-377b425afb40",
   "metadata": {},
   "outputs": [],
   "source": [
    "import csv\n",
    "\n",
    "with open('addresses-geocoded.csv', 'w') as fp:\n",
    "    fieldnames=['street','city','state','postal_code','country','lat', 'lon']\n",
    "\n",
    "    writer = csv.DictWriter(fp, fieldnames=fieldnames)\n",
    "    writer.writeheader()\n",
    "    for row in data:\n",
    "        writer.writerow(row)"
   ]
  },
  {
   "cell_type": "code",
   "execution_count": null,
   "id": "cf187dac-ad48-452e-9c5a-0ba6d33826e4",
   "metadata": {},
   "outputs": [],
   "source": []
  },
  {
   "cell_type": "code",
   "execution_count": null,
   "id": "9a86a3d5-c025-4e7a-b49f-5df01aaf7f6f",
   "metadata": {},
   "outputs": [],
   "source": []
  },
  {
   "cell_type": "code",
   "execution_count": null,
   "id": "276357b3-c542-4923-aa07-b7fe37d22be6",
   "metadata": {},
   "outputs": [],
   "source": []
  },
  {
   "cell_type": "code",
   "execution_count": null,
   "id": "0c7a456e-5ed5-4d78-8ccd-a78fd0605676",
   "metadata": {},
   "outputs": [],
   "source": []
  },
  {
   "cell_type": "code",
   "execution_count": null,
   "id": "856f5193-1bc9-4b3f-8fbb-e8c84f653cef",
   "metadata": {},
   "outputs": [],
   "source": []
  }
 ],
 "metadata": {
  "kernelspec": {
   "display_name": "Python 3 (ipykernel)",
   "language": "python",
   "name": "python3"
  },
  "language_info": {
   "codemirror_mode": {
    "name": "ipython",
    "version": 3
   },
   "file_extension": ".py",
   "mimetype": "text/x-python",
   "name": "python",
   "nbconvert_exporter": "python",
   "pygments_lexer": "ipython3",
   "version": "3.11.8"
  }
 },
 "nbformat": 4,
 "nbformat_minor": 5
}
